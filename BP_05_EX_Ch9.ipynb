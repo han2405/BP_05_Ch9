{
  "nbformat": 4,
  "nbformat_minor": 0,
  "metadata": {
    "colab": {
      "provenance": [],
      "authorship_tag": "ABX9TyMlVjol1TZcMkCIiP6X2m+2",
      "include_colab_link": true
    },
    "kernelspec": {
      "name": "python3",
      "display_name": "Python 3"
    },
    "language_info": {
      "name": "python"
    }
  },
  "cells": [
    {
      "cell_type": "markdown",
      "metadata": {
        "id": "view-in-github",
        "colab_type": "text"
      },
      "source": [
        "<a href=\"https://colab.research.google.com/github/han2405/BP_05_Ch9/blob/main/BP_05_EX_Ch9.ipynb\" target=\"_parent\"><img src=\"https://colab.research.google.com/assets/colab-badge.svg\" alt=\"Open In Colab\"/></a>"
      ]
    },
    {
      "cell_type": "markdown",
      "source": [
        " <pre> 1번 사용자로부터 5개의 숫자를 읽어서 리스트에 저장하고 숫자들의 평균을 걔산하여 출력하는 프로그램을 작성해보자."
      ],
      "metadata": {
        "id": "x3fZivBW0A5h"
      }
    },
    {
      "cell_type": "code",
      "source": [
        "alist=[] #공백 리스트 생성\n",
        "sum=0 #초기화\n",
        "\n",
        "for i in range(5):\n",
        "  i=int(input(\"정수를 입력하시오. : \"))\n",
        "  alist.append(i) #추가\n",
        "\n",
        "for i in alist:\n",
        "  sum += i\n",
        "avg = sum/len(alist) #리스트의 크기\n",
        "print(\"평균=\", avg)"
      ],
      "metadata": {
        "colab": {
          "base_uri": "https://localhost:8080/"
        },
        "id": "FesTrM5o47K0",
        "outputId": "2efd9c01-0fb7-4fc9-fe56-b1be7e7d84e3"
      },
      "execution_count": 1,
      "outputs": [
        {
          "output_type": "stream",
          "name": "stdout",
          "text": [
            "정수를 입력하시오. : 10\n",
            "정수를 입력하시오. : 20\n",
            "정수를 입력하시오. : 30\n",
            "정수를 입력하시오. : 40\n",
            "정수를 입력하시오. : 50\n",
            "평균= 30.0\n"
          ]
        }
      ]
    },
    {
      "cell_type": "markdown",
      "source": [
        "<pre> 2번 주사위를 던져서 나오는 값들의 빈도를 계산하는 프로그램을 작성해보자. 즉 1,2,3,4,5,6 의 값이 각각 몇 번이나 나오는지를 계산한다. 난수 발생 함수와 리스트를 사용해보자."
      ],
      "metadata": {
        "id": "sUMsGZQk0AwN"
      }
    },
    {
      "cell_type": "code",
      "source": [
        "import random\n",
        "counters = [0, 0, 0, 0, 0, 0] #주사위 값이 나오는 빈도를 리스트에 저장\n",
        "\n",
        "for i in range(1000):\n",
        "  value=random.randint(0,5)\n",
        "  counters[value]=counters[value]+1 #주사위를 굴려서 값이 나오면 해당되는 리스트의 요소를 +1\n",
        "\n",
        "for i in range(6):\n",
        "  print(\"주사위가\", i+1, \"인 경우는\", counters[i], \"번\")"
      ],
      "metadata": {
        "colab": {
          "base_uri": "https://localhost:8080/"
        },
        "id": "J79o2y6q58KI",
        "outputId": "91abbf61-22ae-4ab8-b61f-4ac6978a082f"
      },
      "execution_count": 18,
      "outputs": [
        {
          "output_type": "stream",
          "name": "stdout",
          "text": [
            "주사위가 1 인 경우는 168 번\n",
            "주사위가 2 인 경우는 166 번\n",
            "주사위가 3 인 경우는 180 번\n",
            "주사위가 4 인 경우는 173 번\n",
            "주사위가 5 인 경우는 167 번\n",
            "주사위가 6 인 경우는 146 번\n"
          ]
        }
      ]
    },
    {
      "cell_type": "code",
      "source": [
        "import random\n",
        "counters = [0, 0, 0, 0, 0, 0, 0, 0, 0, 0, 0] #주사위 값이 나오는 빈도를 리스트에 저장\n",
        "\n",
        "for i in range(1000):\n",
        "  value=random.randint(0,5)+random.randint(0,5)\n",
        "  counters[value]=counters[value]+1 #주사위를 굴려서 값이 나오면 해당되는 리스트의 요소를 +1\n",
        "\n",
        "for i in range(11):\n",
        "  print(\"주사위가\", i+2, \"인 경우는\", counters[i], \"번\") #주사위 굴리는걸 좋아해서 2d6 버전도 재미로 해봄"
      ],
      "metadata": {
        "colab": {
          "base_uri": "https://localhost:8080/"
        },
        "id": "-9mbWLowQT_i",
        "outputId": "5646c57e-2e1f-4a82-8aae-0d22b17bcafe"
      },
      "execution_count": 28,
      "outputs": [
        {
          "output_type": "stream",
          "name": "stdout",
          "text": [
            "주사위가 2 인 경우는 27 번\n",
            "주사위가 3 인 경우는 56 번\n",
            "주사위가 4 인 경우는 86 번\n",
            "주사위가 5 인 경우는 125 번\n",
            "주사위가 6 인 경우는 131 번\n",
            "주사위가 7 인 경우는 173 번\n",
            "주사위가 8 인 경우는 156 번\n",
            "주사위가 9 인 경우는 94 번\n",
            "주사위가 10 인 경우는 76 번\n",
            "주사위가 11 인 경우는 51 번\n",
            "주사위가 12 인 경우는 25 번\n"
          ]
        }
      ]
    },
    {
      "cell_type": "markdown",
      "source": [
        "<pre> 3번 딕셔너리를 사용하여서 친구들의 이름과 전화번호를 저장해보자. 사용자로부터 친구들의 이름과 전화번호를 입력받고 딕셔너리에 저장한다. 이름을 입력하지 않고 엔터키를 치면 검색모드가 된다. 검색 모드에서는 친구들의 이름으로 전화번호를 검색할 수 있도록 한다."
      ],
      "metadata": {
        "id": "WBRJBQCj0An4"
      }
    },
    {
      "cell_type": "code",
      "source": [
        "contacts={} #공백 딕셔너리 생성\n",
        "\n",
        "while True: #사용자가 원하는 만큼 딕셔너리에 추가\n",
        "  name=input(\"(입력모드) 이름을 입력하시오: \") \n",
        "  if not name:\n",
        "    break;  #이름을 입력하지 않고 엔터치면 브레이크되고 검색모드로 넘어가게 됨\n",
        "  tel=input(\"전화번호를 입력하시오. :\")\n",
        "  contacts[name]=tel\n",
        "\n",
        "while True:\n",
        "  name=input(\"(검색모드) 이름을 입력하시오. :\")\n",
        "  if not name:\n",
        "    break;\n",
        "  if name in contacts: #딕셔너리에 있는 이름이라면 전화번호를 출력\n",
        "    print(name, \"의 전화번호는\", contacts[name], \"입니다.\")\n",
        "  else:    \n",
        "    break;     #그냥 else 로 끝내면 끝내기 오류가 난다 그냥 브레이크 추가함"
      ],
      "metadata": {
        "colab": {
          "base_uri": "https://localhost:8080/"
        },
        "id": "UE4u_49gBJ1-",
        "outputId": "5d89867a-b6e9-47d7-9f2a-8e2abbbae88c"
      },
      "execution_count": 33,
      "outputs": [
        {
          "name": "stdout",
          "output_type": "stream",
          "text": [
            "(입력모드) 이름을 입력하시오: 홍길동\n",
            "전화번호를 입력하시오. :1122\n",
            "(입력모드) 이름을 입력하시오: 김철수\n",
            "전화번호를 입력하시오. :2233\n",
            "(입력모드) 이름을 입력하시오: \n",
            "(검색모드) 이름을 입력하시오. :홍길동\n",
            "홍길동 의 전화번호는 1122 입니다.\n",
            "(검색모드) 이름을 입력하시오. :\n"
          ]
        }
      ]
    },
    {
      "cell_type": "markdown",
      "source": [
        "<pre> 4번 색상을 리스트에 저장한다. 리스트에 저장된 색상을 하나씩 꺼내어 거북이의 색상으로 설정하면서 속이 채워진 사각형을 그리는 프로그램을 작성해보자."
      ],
      "metadata": {
        "id": "VedH-m7o0Afr"
      }
    },
    {
      "cell_type": "code",
      "source": [
        "import turtle\n",
        "import random\n",
        "t= turtle.Turtle()\n",
        "t.shape(\"turtle\")\n",
        "\n",
        "def draw_square(x, y, c): #색 채워진 사각형 그리는 함수\n",
        "    t.up()\n",
        "    t.goto(x,y)\n",
        "    t.down()\n",
        "    t.color(\"black\", c) #c에 색깔 불러옴\n",
        "    t.begin_fill()\n",
        "    t.forward(100)\n",
        "    t.left(90)\n",
        "    t.forward(100)\n",
        "    t.left(90)\n",
        "    t.forward(100)\n",
        "    t.left(90)\n",
        "    t.forward(100)\n",
        "    t.left(90)\n",
        "    t.end_fill()\n",
        "\n",
        "for c in [\"yellow\", \"red\", \"purple\", \"blue\"]: #색 순서대로 4번 그려짐 \n",
        "    x = random.randint(-100, 100) #난수 생성으로 랜덤한 좌표 x\n",
        "    y = random.randint(-100, 100) #y에 그려진다\n",
        "    draw_square(x, y, c)\n"
      ],
      "metadata": {
        "id": "dmGgrN3MDY29"
      },
      "execution_count": null,
      "outputs": []
    },
    {
      "cell_type": "markdown",
      "source": [
        "<pre> 5번 색상을 리스트에 저정한다. 리스트에 저장된 색상을 하나씩 꺼내어 거북이의 색상으로 설정하면서 속이 채워진 다각형을 그리는 프로그램을 작성해보자."
      ],
      "metadata": {
        "id": "MY9GInmP0AW6"
      }
    },
    {
      "cell_type": "code",
      "source": [
        "import turtle\n",
        "import random\n",
        "\n",
        "t= turtle.Turtle()\n",
        "s= turtle.Screen()\n",
        "\n",
        "\n",
        "def draw_shape(t, c, length, sides, x, y): #다각형을 그리는 함수\n",
        " t.up()\n",
        " t.goto(x, y)\n",
        " t.down()\n",
        " t.fillcolor(c)\n",
        " angle = 360.0 / sides #사각형부터 시작?\n",
        " t.begin_fill()\n",
        " for dist in range(sides):\n",
        "    t.forward(length)\n",
        "    t.left(angle)\n",
        " t.end_fill()\n",
        "\n",
        "for i in range(10): #다각형 그리기 10번 반복\n",
        " color = random.choice([ 'white', 'yellow', 'blue', 'skyblue', 'orange', 'green' ])\n",
        " side_length = random.randint(10, 100)\n",
        " sides = random.randint(3, 10)\n",
        " x = random.randint(-200, 200)\n",
        " y = random.randint(-200, 200)\n",
        " draw_shape(t, color, side_length, sides, x, y)"
      ],
      "metadata": {
        "id": "P9fvXZYwFqar"
      },
      "execution_count": null,
      "outputs": []
    },
    {
      "cell_type": "markdown",
      "source": [
        "<pre>  6번 색상을 리스트에 저장한다. 리스트에 저장된 색상을 하나씩 꺼내어 거북이의 색상으로 설정하면서 속이 채워진 별을 랜덤한 위치에 그리는 프로그램을 작성해보자."
      ],
      "metadata": {
        "id": "2bqOMYM70AMx"
      }
    },
    {
      "cell_type": "code",
      "source": [
        "import turtle\n",
        "import random\n",
        "\n",
        "t= turtle.Turtle()\n",
        "s= turtle.Screen()\n",
        "s.bgcolor(\"black\") #배경 검정으로 설정\n",
        "\n",
        "\n",
        "def draw_star(aturtle, colour, side_length, x, y): #하나의 별을 그리는 함수\n",
        " aturtle.color(colour) #저장된 리스트 color를 랜덤으로 꺼내옴 \n",
        " aturtle.begin_fill() #근데 왜 aturtle이라고 쓸까\n",
        " aturtle.penup()\n",
        " aturtle.goto(x, y)\n",
        " aturtle.pendown()\n",
        " for i in range(5): #별 그리는 세부 과정 뾰족뽀족 5번\n",
        "   aturtle.forward(side_length)\n",
        "   aturtle.right(144)\n",
        "   aturtle.forward(side_length)\n",
        " aturtle.end_fill()\n",
        "\n",
        "\n",
        "for i in range(20): #별 스무개 그리기\n",
        " color = random.choice([ 'white', 'yellow', 'blue', 'skyblue', 'orange', 'green' ])\n",
        " side_length = random.randint(10, 100) #크기 랜덤\n",
        " x = random.randint(-200, 200) #x좌표 랜덤\n",
        " y = random.randint(-200, 200) #y좌표 랜덤\n",
        " draw_star(t, color, side_length, x, y)"
      ],
      "metadata": {
        "id": "vBBW1eMhHLBA"
      },
      "execution_count": null,
      "outputs": []
    },
    {
      "cell_type": "markdown",
      "source": [
        "<pre> 7번 인터넷 도메인의 약자와 해당되는 국가를 딕셔너리에 저장해보자, 예를 들어서 \"kr\"은 대한민국으로 저장되어야 한다. 딕셔너리를 순회하면서 모든 키와 값을 출력하는 프로그램을 작성해보자."
      ],
      "metadata": {
        "id": "aeVgV76P0ADW"
      }
    },
    {
      "cell_type": "code",
      "source": [
        "domains={\"kr\": \"대한민국\", \"us\": \"미국\", \"jp\": \"일본\", \"de\": \"독일\", \"sk\": \"슬로바키아\", \"hu\": \"헝가리\",\"no\": \"노르웨이\" }\n",
        "\n",
        "for k, v in domains.items(): #키와 값을 모두 출력하려면 이런 식으로\n",
        "  print(k, \":\", v)"
      ],
      "metadata": {
        "colab": {
          "base_uri": "https://localhost:8080/"
        },
        "id": "fiNl_lESIvJC",
        "outputId": "85a76505-6827-4835-e0cb-2318e41d4c4f"
      },
      "execution_count": 12,
      "outputs": [
        {
          "output_type": "stream",
          "name": "stdout",
          "text": [
            "kr : 대한민국\n",
            "us : 미국\n",
            "jp : 일본\n",
            "de : 독일\n",
            "sk : 슬로바키아\n",
            "hu : 헝가리\n",
            "no : 노르웨이\n"
          ]
        }
      ]
    },
    {
      "cell_type": "markdown",
      "source": [
        "<pre> 8번 딕셔너리에 문제와 정답을 저장하고 하나씩 꺼내서 사용자에게 제시하는 프로그램을 작성해보자. 사용자는 문자열로 답해야 한다. 번호로 답할 수 는 없다."
      ],
      "metadata": {
        "id": "v_fbdS6sz_2b"
      }
    },
    {
      "cell_type": "code",
      "execution_count": 35,
      "metadata": {
        "colab": {
          "base_uri": "https://localhost:8080/"
        },
        "id": "87JssC0gynG0",
        "outputId": "2907543e-a588-49bf-edc0-d2712b2ef07d"
      },
      "outputs": [
        {
          "output_type": "stream",
          "name": "stdout",
          "text": [
            "다음은 어떤 단어에 대한 설명일까요? \n",
            "\"최근에 가장 떠오르는 프로그래밍 언어\"\n",
            "(1)파이썬 (2)변수 (3)함수 (4)리스트 \n",
            "파이썬\n",
            "정답입니다!\n",
            "다음은 어떤 단어에 대한 설명일까요? \n",
            "\"데이터를 저장하는 메모리 공간\"\n",
            "(1)파이썬 (2)변수 (3)함수 (4)리스트 \n",
            "변수\n",
            "정답입니다!\n",
            "다음은 어떤 단어에 대한 설명일까요? \n",
            "\"작업을 수행하는 문장들의 집합에 이름을 붙인것\"\n",
            "(1)파이썬 (2)변수 (3)함수 (4)리스트 \n",
            "함수\n",
            "정답입니다!\n",
            "다음은 어떤 단어에 대한 설명일까요? \n",
            "\"서로 관련이 없는 항목들의 모임\"\n",
            "(1)파이썬 (2)변수 (3)함수 (4)리스트 \n",
            "리스트\n",
            "정답입니다!\n"
          ]
        }
      ],
      "source": [
        "problems = {'파이썬': '최근에 가장 떠오르는 프로그래밍 언어', '변수': '데이터를 저장하는 메모리 공간', '함수': '작업을 수행하는 문장들의 집합에 이름을 붙인것', '리스트': '서로 관련이 없는 항목들의 모임'}\n",
        "\n",
        "def show_words(problems): #문제 보여주기\n",
        " display_message = \"\"\n",
        " i=1\n",
        " for word in problems.keys(): #키만 꺼낼 때 사용\n",
        "   display_message += \"(\"+str(i)+\")\"\n",
        "   display_message += word + \" \"\n",
        "   i+=1 # 2번 3번 4번을 따로 쓰지 않아도 이런 식으로\n",
        " print(display_message)\n",
        "\n",
        "for meaning in problems.values():\n",
        "  print(\"다음은 어떤 단어에 대한 설명일까요? \")\n",
        "  print(\"\\\"\"+meaning+\"\\\"\") #백슬래쉬 이 모양으로 써지네\n",
        "  correct = False\n",
        "  while not correct:\n",
        "    show_words(problems)\n",
        "    guessed_word = input(\"\")\n",
        "    if problems[guessed_word] == meaning:\n",
        "        print(\"정답입니다!\")\n",
        "        correct = True\n",
        "    else:\n",
        "        print(\"정답이 아닙니다.\") #이 문제는 좀 이해하기 어렵다 다시 보기로"
      ]
    }
  ]
}